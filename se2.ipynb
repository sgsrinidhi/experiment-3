{
  "nbformat": 4,
  "nbformat_minor": 0,
  "metadata": {
    "colab": {
      "provenance": [],
      "authorship_tag": "ABX9TyMytmWHuRe29NhG8yiQU/sV",
      "include_colab_link": true
    },
    "kernelspec": {
      "name": "python3",
      "display_name": "Python 3"
    },
    "language_info": {
      "name": "python"
    }
  },
  "cells": [
    {
      "cell_type": "markdown",
      "metadata": {
        "id": "view-in-github",
        "colab_type": "text"
      },
      "source": [
        "<a href=\"https://colab.research.google.com/github/sgsrinidhi/experiment-3/blob/main/se2.ipynb\" target=\"_parent\"><img src=\"https://colab.research.google.com/assets/colab-badge.svg\" alt=\"Open In Colab\"/></a>"
      ]
    },
    {
      "cell_type": "code",
      "execution_count": null,
      "metadata": {
        "id": "JXCvFHeAIRbM"
      },
      "outputs": [],
      "source": [
        "import org.openqa.selenium.By;\n",
        "import org.openqa.selenium.WebDriver;\n",
        "import org.openqa.selenium.WebElement;\n",
        "import org.openqa.selenium.chrome.ChromeDriver;\n",
        "import org.openqa.selenium.support.ui.WebDriverWait;\n",
        "import org.openqa.selenium.support.ui.ExpectedConditions;\n",
        "import java.time.Duration;\n",
        "\n",
        "public class WeatherModelingTest {\n",
        "\n",
        "    public static void main(String[] args) {\n",
        "        // Set path to ChromeDriver\n",
        "        System.setProperty(\"webdriver.chrome.driver\", \"C:\\\\Users\\\\Akhila S\\\\OneDrive\\\\Desktop\\\\selinium\\\\selinium testing\\\\bin\\\\chromedriver.exe\");\n",
        "\n",
        "        // Initialize WebDriver\n",
        "        WebDriver driver = new ChromeDriver();\n",
        "        WebDriverWait wait = new WebDriverWait(driver, Duration.ofSeconds(10));\n",
        "\n",
        "        try {\n",
        "            // Open the Weather Modeling web application (HTML version of your Java-based app)\n",
        "            driver.get(\"file:///C:/Users/Akhila%20S/OneDrive/Desktop/selinium/selinium%20testing/src/WeatherModeling.html\");\n",
        "\n",
        "            // Locate input fields and buttons\n",
        "            WebElement inputA = wait.until(ExpectedConditions.visibilityOfElementLocated(By.id(\"a\")));\n",
        "            WebElement inputB = driver.findElement(By.id(\"b\"));\n",
        "            WebElement inputC = driver.findElement(By.id(\"c\"));\n",
        "            WebElement plotButton = driver.findElement(By.id(\"plot\"));\n",
        "\n",
        "            // Enter coefficients\n",
        "            inputA.sendKeys(\"1\");\n",
        "            inputB.sendKeys(\"-3\");\n",
        "            inputC.sendKeys(\"2\");\n",
        "\n",
        "            // Click the \"Plot\" button\n",
        "            plotButton.click();\n",
        "\n",
        "            // Validate graph generation (assuming graph element has id=\"graph\")\n",
        "            WebElement graph = wait.until(ExpectedConditions.visibilityOfElementLocated(By.id(\"graph\")));\n",
        "\n",
        "            // Check if the graph is displayed\n",
        "            if (graph.isDisplayed()) {\n",
        "                System.out.println(\"Test Passed: Graph displayed successfully.\");\n",
        "            } else {\n",
        "                System.out.println(\"Test Failed: Graph not displayed.\");\n",
        "            }\n",
        "        } catch (Exception e) {\n",
        "            System.err.println(\"Test Failed: \" + e.getMessage());\n",
        "            e.printStackTrace();\n",
        "        } finally {\n",
        "            // Close the browser\n",
        "            driver.quit();\n",
        "        }\n",
        "    }\n"
      ]
    }
  ]
}